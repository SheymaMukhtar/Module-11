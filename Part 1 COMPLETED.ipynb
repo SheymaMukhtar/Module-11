{
 "cells": [
  {
   "cell_type": "code",
   "execution_count": 1,
   "id": "d2cfa751-feb7-439b-afa0-462b295bce7f",
   "metadata": {},
   "outputs": [],
   "source": [
    "from splinter import Browser\n",
    "from bs4 import BeautifulSoup\n",
    "import pandas as pd\n",
    "from webdriver_manager.chrome import ChromeDriverManager"
   ]
  },
  {
   "cell_type": "code",
   "execution_count": 2,
   "id": "e57cfe32-fbef-4ea4-b56d-2f66cd5af1f9",
   "metadata": {},
   "outputs": [
    {
     "ename": "DriverNotFoundError",
     "evalue": "Driver for chrome was not found.",
     "output_type": "error",
     "traceback": [
      "\u001b[0;31m---------------------------------------------------------------------------\u001b[0m",
      "\u001b[0;31mDriverNotFoundError\u001b[0m                       Traceback (most recent call last)",
      "Cell \u001b[0;32mIn[2], line 2\u001b[0m\n\u001b[1;32m      1\u001b[0m \u001b[38;5;66;03m# Set up Splinter\u001b[39;00m\n\u001b[0;32m----> 2\u001b[0m browser \u001b[38;5;241m=\u001b[39m Browser(\u001b[38;5;124m'\u001b[39m\u001b[38;5;124mchrome\u001b[39m\u001b[38;5;124m'\u001b[39m, executable_path\u001b[38;5;241m=\u001b[39mChromeDriverManager()\u001b[38;5;241m.\u001b[39minstall(), headless\u001b[38;5;241m=\u001b[39m\u001b[38;5;28;01mFalse\u001b[39;00m)\n\u001b[1;32m      4\u001b[0m \u001b[38;5;66;03m# Visit the Mars weather site\u001b[39;00m\n\u001b[1;32m      5\u001b[0m url \u001b[38;5;241m=\u001b[39m \u001b[38;5;124m'\u001b[39m\u001b[38;5;124mhttps://static.bc-edx.com/data/web/mars_facts/temperature.html\u001b[39m\u001b[38;5;124m'\u001b[39m\n",
      "File \u001b[0;32m/Applications/anaconda3/lib/python3.11/site-packages/splinter/browser.py:128\u001b[0m, in \u001b[0;36mBrowser\u001b[0;34m(driver_name, retry_count, config, *args, **kwargs)\u001b[0m\n\u001b[1;32m    125\u001b[0m     \u001b[38;5;28;01mraise\u001b[39;00m DriverNotFoundError(\u001b[38;5;124mf\u001b[39m\u001b[38;5;124m\"\u001b[39m\u001b[38;5;132;01m{\u001b[39;00mdriver_name\u001b[38;5;132;01m}\u001b[39;00m\u001b[38;5;124m is not a recognized driver.\u001b[39m\u001b[38;5;124m\"\u001b[39m)\n\u001b[1;32m    127\u001b[0m \u001b[38;5;28;01mif\u001b[39;00m driver \u001b[38;5;129;01mis\u001b[39;00m \u001b[38;5;28;01mNone\u001b[39;00m:\n\u001b[0;32m--> 128\u001b[0m     \u001b[38;5;28;01mraise\u001b[39;00m DriverNotFoundError(\u001b[38;5;124mf\u001b[39m\u001b[38;5;124m\"\u001b[39m\u001b[38;5;124mDriver for \u001b[39m\u001b[38;5;132;01m{\u001b[39;00mdriver_name\u001b[38;5;132;01m}\u001b[39;00m\u001b[38;5;124m was not found.\u001b[39m\u001b[38;5;124m\"\u001b[39m)\n\u001b[1;32m    130\u001b[0m \u001b[38;5;28;01mreturn\u001b[39;00m get_driver(driver, retry_count\u001b[38;5;241m=\u001b[39mretry_count, config\u001b[38;5;241m=\u001b[39mconfig, \u001b[38;5;241m*\u001b[39margs, \u001b[38;5;241m*\u001b[39m\u001b[38;5;241m*\u001b[39mkwargs)\n",
      "\u001b[0;31mDriverNotFoundError\u001b[0m: Driver for chrome was not found."
     ]
    }
   ],
   "source": [
    "# Set up Splinter\n",
    "browser = Browser('chrome', executable_path=ChromeDriverManager().install(), headless=False)\n",
    "\n",
    "# Visit the Mars weather site\n",
    "url = 'https://static.bc-edx.com/data/web/mars_facts/temperature.html'\n",
    "browser.visit(url)\n",
    "\n",
    "# Optional delay for loading the page\n",
    "browser.is_element_present_by_css('table', wait_time=1)"
   ]
  },
  {
   "cell_type": "code",
   "execution_count": null,
   "id": "26abaef8-4f3e-41e6-8b5e-6247a594b74f",
   "metadata": {},
   "outputs": [],
   "source": [
    "# Scrape the website\n",
    "html = browser.html\n",
    "soup = BeautifulSoup(html, 'html.parser')\n",
    "\n",
    "# Extract the weather data table\n",
    "table = soup.find('table', class_='table')\n",
    "\n",
    "# Convert the extracted data to a DataFrame\n",
    "df = pd.read_html(str(table))[0]\n",
    "\n",
    "# Rename the columns\n",
    "df.columns = ['id', 'terrestrial_date', 'sol', 'ls', 'month', 'min_temp', 'pressure']\n",
    "\n",
    "# Convert data types\n",
    "df['terrestrial_date'] = pd.to_datetime(df['terrestrial_date'])\n",
    "df['min_temp'] = df['min_temp'].astype(float)\n",
    "df['pressure'] = df['pressure'].astype(float)\n",
    "\n",
    "# Descriptive statistics\n",
    "df.describe()"
   ]
  },
  {
   "cell_type": "code",
   "execution_count": null,
   "id": "9e0f372a-de4d-4f8e-a674-f9c692a2e593",
   "metadata": {},
   "outputs": [],
   "source": [
    "import matplotlib.pyplot as plt\n",
    "\n",
    "plt.figure(figsize=(10, 6))\n",
    "df.groupby('month')['min_temp'].mean().plot(kind='bar')\n",
    "plt.xlabel('Month')\n",
    "plt.ylabel('Average Minimum Temperature (°C)')\n",
    "plt.title('Average Minimum Temperature by Month')\n",
    "plt.show()\n",
    "\n",
    "plt.figure(figsize=(10, 6))\n",
    "df.groupby('month')['pressure'].mean().plot(kind='bar')\n",
    "plt.xlabel('Month')\n",
    "plt.ylabel('Average Atmospheric Pressure (Pa)')\n",
    "plt.title('Average Atmospheric Pressure by Month')\n",
    "plt.show()\n",
    "\n",
    "df.to_csv('mars_weather.csv', index=False)\n",
    "\n",
    "browser.quit()\n"
   ]
  },
  {
   "cell_type": "code",
   "execution_count": null,
   "id": "a395d77f-bbc8-41d0-a19c-594e2b5b89e4",
   "metadata": {},
   "outputs": [],
   "source": [
    "from splinter import Browser\n",
    "from bs4 import BeautifulSoup\n",
    "from webdriver_manager.chrome import ChromeDriverManager\n",
    "\n",
    "# Set up Splinter\n",
    "browser = Browser('chrome', executable_path=ChromeDriverManager().install(), headless=False)\n",
    "\n",
    "# Visit the Mars news site\n",
    "url = 'https://static.bc-edx.com/data/web/mars_news/index.html'\n",
    "browser.visit(url)\n",
    "\n",
    "# Optional delay for loading the page\n",
    "browser.is_element_present_by_css('div.list_text', wait_time=1)\n",
    "\n",
    "# Scrape the website\n",
    "html = browser.html\n",
    "soup = BeautifulSoup(html, 'html.parser')\n"
   ]
  },
  {
   "cell_type": "code",
   "execution_count": null,
   "id": "b6f74802-d1ab-4cf8-89e9-d425ba9307b1",
   "metadata": {},
   "outputs": [],
   "source": [
    "# Extract all the text elements\n",
    "articles = soup.find_all('div', class_='list_text')\n"
   ]
  },
  {
   "cell_type": "code",
   "execution_count": null,
   "id": "671d6c95-95d3-4764-a438-9cdf520886f8",
   "metadata": {},
   "outputs": [],
   "source": [
    "# Store the results\n",
    "mars_news = []\n",
    "\n",
    "# Loop through the articles to extract title and preview text\n",
    "for article in articles:\n",
    "    title = article.find('div', class_='content_title').get_text()\n",
    "    preview = article.find('div', class_='article_teaser_body').get_text()\n",
    "    mars_news.append({'title': title, 'preview': preview})\n",
    "\n",
    "# Print the list to confirm success\n",
    "print(mars_news)"
   ]
  },
  {
   "cell_type": "code",
   "execution_count": null,
   "id": "a00b4b4c-6aed-4cf9-89e2-60f631c40eed",
   "metadata": {},
   "outputs": [],
   "source": [
    "# Print the list to confirm success\n",
    "print(mars_news)\n"
   ]
  },
  {
   "cell_type": "code",
   "execution_count": null,
   "id": "d1251f75-f3e2-4d5f-bc9f-a3a4bec5981a",
   "metadata": {},
   "outputs": [],
   "source": [
    "import json\n",
    "\n",
    "# Export the scraped data to a JSON file\n",
    "with open('mars_news.json', 'w') as f:\n",
    "    json.dump(mars_news, f)\n"
   ]
  },
  {
   "cell_type": "code",
   "execution_count": 3,
   "id": "366f46aa-c288-485c-a230-a333ed0f26e5",
   "metadata": {},
   "outputs": [
    {
     "ename": "ModuleNotFoundError",
     "evalue": "No module named 'selenium'",
     "output_type": "error",
     "traceback": [
      "\u001b[0;31m---------------------------------------------------------------------------\u001b[0m",
      "\u001b[0;31mModuleNotFoundError\u001b[0m                       Traceback (most recent call last)",
      "Cell \u001b[0;32mIn[3], line 1\u001b[0m\n\u001b[0;32m----> 1\u001b[0m \u001b[38;5;28;01mfrom\u001b[39;00m \u001b[38;5;21;01mselenium\u001b[39;00m \u001b[38;5;28;01mimport\u001b[39;00m webdriver\n\u001b[1;32m      2\u001b[0m \u001b[38;5;28;01mfrom\u001b[39;00m \u001b[38;5;21;01mselenium\u001b[39;00m\u001b[38;5;21;01m.\u001b[39;00m\u001b[38;5;21;01mwebdriver\u001b[39;00m\u001b[38;5;21;01m.\u001b[39;00m\u001b[38;5;21;01mcommon\u001b[39;00m\u001b[38;5;21;01m.\u001b[39;00m\u001b[38;5;21;01mby\u001b[39;00m \u001b[38;5;28;01mimport\u001b[39;00m By\n\u001b[1;32m      3\u001b[0m \u001b[38;5;28;01mfrom\u001b[39;00m \u001b[38;5;21;01mbs4\u001b[39;00m \u001b[38;5;28;01mimport\u001b[39;00m BeautifulSoup\n",
      "\u001b[0;31mModuleNotFoundError\u001b[0m: No module named 'selenium'"
     ]
    }
   ],
   "source": []
  },
  {
   "cell_type": "code",
   "execution_count": null,
   "id": "7f0d6b48-be78-471c-91cb-4c1146bda545",
   "metadata": {},
   "outputs": [],
   "source": []
  }
 ],
 "metadata": {
  "kernelspec": {
   "display_name": "Python 3 (ipykernel)",
   "language": "python",
   "name": "python3"
  },
  "language_info": {
   "codemirror_mode": {
    "name": "ipython",
    "version": 3
   },
   "file_extension": ".py",
   "mimetype": "text/x-python",
   "name": "python",
   "nbconvert_exporter": "python",
   "pygments_lexer": "ipython3",
   "version": "3.11.7"
  }
 },
 "nbformat": 4,
 "nbformat_minor": 5
}
